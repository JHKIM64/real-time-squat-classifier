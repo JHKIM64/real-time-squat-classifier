{
  "nbformat": 4,
  "nbformat_minor": 0,
  "metadata": {
    "colab": {
      "provenance": [],
      "authorship_tag": "ABX9TyM6wSMK1nqgaRAN13Ws6fzP",
      "include_colab_link": true
    },
    "kernelspec": {
      "name": "python3",
      "display_name": "Python 3"
    },
    "language_info": {
      "name": "python"
    }
  },
  "cells": [
    {
      "cell_type": "markdown",
      "metadata": {
        "id": "view-in-github",
        "colab_type": "text"
      },
      "source": [
        "<a href=\"https://colab.research.google.com/github/omin-Kwon/real-time-squat-classifier/blob/main/SquatClassification.ipynb\" target=\"_parent\"><img src=\"https://colab.research.google.com/assets/colab-badge.svg\" alt=\"Open In Colab\"/></a>"
      ]
    },
    {
      "cell_type": "markdown",
      "metadata": {
        "id": "2fXF_T3bSEa_"
      },
      "source": [
        "## Colab Setup"
      ]
    },
    {
      "cell_type": "code",
      "metadata": {
        "id": "EqEDSdeoOXpn",
        "colab": {
          "base_uri": "https://localhost:8080/"
        },
        "outputId": "13834e6b-5f1d-419b-b53c-268a4c16c20d"
      },
      "source": [
        "from google.colab import drive\n",
        "drive.mount('/content/drive')"
      ],
      "execution_count": null,
      "outputs": [
        {
          "output_type": "stream",
          "name": "stdout",
          "text": [
            "Mounted at /content/drive\n"
          ]
        }
      ]
    },
    {
      "cell_type": "code",
      "metadata": {
        "id": "c57lCStiOyqA",
        "colab": {
          "base_uri": "https://localhost:8080/"
        },
        "outputId": "ef614256-e794-4ef9-ed6d-ca02cde85c93"
      },
      "source": [
        "\"\"\"\n",
        "Change directory to where this file is located\n",
        "\"\"\"\n",
        "%cd /content/drive/MyDrive/Colab Notebooks"
      ],
      "execution_count": null,
      "outputs": [
        {
          "output_type": "stream",
          "name": "stdout",
          "text": [
            "/content/drive/MyDrive/Colab Notebooks\n"
          ]
        }
      ]
    },
    {
      "cell_type": "markdown",
      "metadata": {
        "id": "c_qq-N3MSOZc"
      },
      "source": [
        "## Import Modules"
      ]
    },
    {
      "cell_type": "code",
      "source": [
        "import tensorflow as tf\n",
        "from tensorflow.keras.layers import Conv1D\n",
        "from tensorflow.keras.layers import Input\n",
        "from tensorflow.keras.layers import ZeroPadding1D\n",
        "from tensorflow.keras.layers import BatchNormalization\n",
        "from tensorflow.keras import activations\n",
        "from tensorflow.keras.layers import AveragePooling2D\n",
        "import numpy as np\n",
        "import matplotlib.pyplot as plt\n",
        "import pandas as pd\n",
        "import datetime\n",
        "import os\n",
        "from scipy import special"
      ],
      "metadata": {
        "id": "71pC0E6Rh_Us"
      },
      "execution_count": null,
      "outputs": []
    },
    {
      "cell_type": "markdown",
      "source": [
        "Gloabal parameters"
      ],
      "metadata": {
        "id": "PUJN9gg__eYm"
      }
    },
    {
      "cell_type": "code",
      "metadata": {
        "id": "sTMPV-Aa4DwS"
      },
      "source": [
        "data_path = './Pose_Dataset/'\n",
        "\n",
        "image_size = 128\n",
        "min_dim = 100\n",
        "max_obj_num = 100\n",
        "\n",
        "unet_base_filters = 64\n",
        "in_channels = 3\n",
        "\n",
        "w0 = 10\n",
        "sigma = 5\n",
        "\n",
        "batch_size = 16\n",
        "learning_rate = 1e-4\n",
        "num_epochs = 5"
      ],
      "execution_count": null,
      "outputs": []
    },
    {
      "cell_type": "code",
      "source": [
        "import json\n",
        "\n",
        "\n",
        "labels=['bad_back_round','bad_back_warp','bad_head','bad_innner_thigh','bad_shallow','bad_toe','good']\n",
        "paths={'bad_back_round':0,\n",
        "       'bad_back_warp':0,\n",
        "       'bad_head':0,\n",
        "       'bad_innner_thigh':0,\n",
        "       'bad_shallow':0,\n",
        "       'bad_toe':0,\n",
        "       'good':0}\n",
        "\n",
        "for label in labels:\n",
        "    paths[label]=data_path+label+\"/1115_3djoints_index\"\n",
        "\n",
        "\n",
        "json_files={'bad_back_round':0,\n",
        "       'bad_back_warp':0,\n",
        "       'bad_head':0,\n",
        "       'bad_innner_thigh':0,\n",
        "       'bad_shallow':0,\n",
        "       'bad_toe':0,\n",
        "       'good':0}\n",
        "\n",
        "\n",
        "for label in labels:\n",
        "    json_files[label]=[pos_json for pos_json in os.listdir(paths[label]) if pos_json.endswith('.json')]\n",
        "\n",
        "data={'bad_back_round':[],'bad_back_warp':[],'bad_head':[],'bad_innner_thigh':[],'bad_shallow':[],'bad_toe':[],'good':[]}\n",
        "\n",
        "for label in labels:\n",
        "    for single_file in json_files[label]:\n",
        "        file_path=paths[label]+\"/\"+single_file\n",
        "        with open(file_path,'r') as fp:\n",
        "            data[label].append(json.load(fp))\n",
        "\n"
      ],
      "metadata": {
        "id": "m9EfzcObkbjq"
      },
      "execution_count": null,
      "outputs": []
    },
    {
      "cell_type": "code",
      "source": [
        "data_numpy={}\n",
        "for label in labels:\n",
        "    label_list=[]\n",
        "    for i in range(len(data[label])):\n",
        "        my_list=[]\n",
        "        for j in range(300):\n",
        "            my_list.append(data[label][i][str(j)]['3d_joint'])\n",
        "        label_list.append(my_list)\n",
        "    label_numpy=np.array(label_list)\n",
        "    data_numpy[label]=label_numpy"
      ],
      "metadata": {
        "id": "9bhjqVcxMyv5"
      },
      "execution_count": null,
      "outputs": []
    },
    {
      "cell_type": "code",
      "source": [
        "\n",
        "train={}\n",
        "valid={}\n",
        "test={}\n",
        "\n",
        "#train: valid: test = 5:3:2로 나눠봄\n",
        "for label in labels:\n",
        "    np.random.shuffle(data_numpy[label])\n",
        "    num_train=int(0.5*len(data_numpy[label]))\n",
        "    num_valid=int(0.8*len(data_numpy[label]))\n",
        "    train[label],valid[label],test[label]=data_numpy[label][:num_train,:],data_numpy[label][num_train:num_valid,:],data_numpy[label][num_valid:,:]\n",
        "\n",
        "for label in labels:\n",
        "    print(\"----\"+label+\"-----\")\n",
        "    print(\"train : \"+str(train[label].shape))\n",
        "    print(\"valid : \"+str(valid[label].shape))\n",
        "    print(\"test : \"+str(test[label].shape))\n",
        "    print(\"all : \"+str(data_numpy[label].shape))\n"
      ],
      "metadata": {
        "id": "Nf8xrDHVUcpv"
      },
      "execution_count": null,
      "outputs": []
    },
    {
      "cell_type": "markdown",
      "source": [
        "### Define ResnetBlock"
      ],
      "metadata": {
        "id": "4Do_iXhyLm-u"
      }
    },
    {
      "cell_type": "code",
      "source": [
        "def resblock(frames):\n",
        "    #resblock에 들어온 input_layer\n",
        "    input_layer=Input(shape=frames)\n",
        "    \n",
        "    res_layer=Conv1D(filters=256,kernel_size=1,strides=2)(input_layer)\n",
        "    \n",
        "    conv1d_layer1=Conv1D(filters=256,kernel_size=3,strides=2)(input_layer)\n",
        "    conv1d_layer1=tf.keras.layers.ZeroPadding1D(padding=(0, 1))(conv1d_layer1)\n",
        "    batch1=BatchNormalization()(conv1d_layer1)\n",
        "    active1=activations.relu(batch1)\n",
        "\n",
        "    conv1d_layer2=Conv1D(filters=256,kernel_size=3,strides=1,padding='same')(active1)\n",
        "    batch2=BatchNormalization()(conv1d_layer2)\n",
        "    active2=activations.relu(batch2)\n",
        "\n",
        "\n",
        "    conv1d_layer3=Conv1D(filters=256,kernel_size=3,strides=1,padding='same')(active2)\n",
        "    batch3=BatchNormalization()(conv1d_layer3)\n",
        "    active3=activations.relu(batch3)\n",
        "   \n",
        "    output=tf.keras.layers.Add()([res_layer,active3])\n",
        "    block=tf.keras.Model(inputs=input_layer,outputs=output)\n",
        "    \n",
        "    return block\n",
        "    \n"
      ],
      "metadata": {
        "id": "WBzAXpodOrwy"
      },
      "execution_count": null,
      "outputs": []
    },
    {
      "cell_type": "markdown",
      "source": [
        "### Define Model"
      ],
      "metadata": {
        "id": "_YZrQMIzV448"
      }
    },
    {
      "cell_type": "code",
      "source": [
        "\n",
        "points=[]\n",
        "outputs=[]\n",
        "\n",
        "inputs=tf.keras.Input(shape=(171,300,1))\n",
        "\n",
        "# (B,171,300,1) matrix를 (B.300,1) matrix 171 개로 찢어준다.\n",
        "for i in range(171):\n",
        "    points.append(inputs[:,i,:,:])\n",
        "\n",
        "\n",
        "for i in range(171):\n",
        "    points[i]=Conv1D(filters=256,kernel_size=3,strides=2)(points[i])\n",
        "    points[i]=ZeroPadding1D(padding=(0, 1))(points[i])\n",
        "    points[i]=resblock((150,256))(points[i])\n",
        "    points[i]=resblock((75,256))(points[i])\n",
        "    points[i]=resblock((38,256))(points[i])\n",
        "    points[i]=resblock((19,256))(points[i])\n",
        "\n",
        "for i in range(171):\n",
        "    points[i]=tf.expand_dims(points[i],axis=1)\n",
        "    #print(points[i].shape)\n",
        "\n",
        "point2D=tf.concat(points,axis=1)\n",
        "#print(point2D.shape)\n",
        "\n",
        "\n",
        "avg_pool_2d = AveragePooling2D(pool_size=(171, 10),  strides=(1, 1), padding='valid')\n",
        "\n",
        "point2D=avg_pool_2d(point2D)\n",
        "#print(point2D.shape)\n",
        "point2D=Conv1D(filters=7,kernel_size=1,strides=1,activation='softmax')(point2D)\n",
        "#print(point2D.shape)\n",
        "\n",
        "my_model=tf.keras.Model(inputs=inputs,outputs=point2D)"
      ],
      "metadata": {
        "colab": {
          "base_uri": "https://localhost:8080/"
        },
        "id": "K8RlqYafGq41",
        "outputId": "89de5240-efe1-400c-ed81-e9338f904fce"
      },
      "execution_count": null,
      "outputs": [
        {
          "output_type": "stream",
          "name": "stdout",
          "text": [
            "(None, 1, 10, 256)\n",
            "(None, 1, 10, 256)\n",
            "(None, 1, 10, 256)\n",
            "(None, 1, 10, 256)\n",
            "(None, 1, 10, 256)\n",
            "(None, 5, 10, 256)\n",
            "(None, 1, 1, 256)\n",
            "<unknown>\n"
          ]
        }
      ]
    },
    {
      "cell_type": "code",
      "source": [
        "my_model.compile(optimizer='adam',loss='catergorical_crossentropy',metrics=['accuracy'])\n",
        "my_model.fit(x)"
      ],
      "metadata": {
        "id": "Epb1lCBYNLRt"
      },
      "execution_count": null,
      "outputs": []
    }
  ]
}