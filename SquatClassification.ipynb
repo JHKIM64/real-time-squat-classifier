{
  "nbformat": 4,
  "nbformat_minor": 0,
  "metadata": {
    "colab": {
      "provenance": [],
      "authorship_tag": "ABX9TyPffbKIEF0D2j9ByoKXFhav",
      "include_colab_link": true
    },
    "kernelspec": {
      "name": "python3",
      "display_name": "Python 3"
    },
    "language_info": {
      "name": "python"
    }
  },
  "cells": [
    {
      "cell_type": "markdown",
      "metadata": {
        "id": "view-in-github",
        "colab_type": "text"
      },
      "source": [
        "<a href=\"https://colab.research.google.com/github/omin-Kwon/real-time-squat-classifier/blob/main/SquatClassification.ipynb\" target=\"_parent\"><img src=\"https://colab.research.google.com/assets/colab-badge.svg\" alt=\"Open In Colab\"/></a>"
      ]
    },
    {
      "cell_type": "markdown",
      "metadata": {
        "id": "2fXF_T3bSEa_"
      },
      "source": [
        "## Colab Setup"
      ]
    },
    {
      "cell_type": "code",
      "metadata": {
        "id": "EqEDSdeoOXpn",
        "colab": {
          "base_uri": "https://localhost:8080/"
        },
        "outputId": "5b473e4e-7195-4d89-cbe9-441f45aafc05"
      },
      "source": [
        "from google.colab import drive\n",
        "drive.mount('/content/drive')"
      ],
      "execution_count": 35,
      "outputs": [
        {
          "output_type": "stream",
          "name": "stdout",
          "text": [
            "Drive already mounted at /content/drive; to attempt to forcibly remount, call drive.mount(\"/content/drive\", force_remount=True).\n"
          ]
        }
      ]
    },
    {
      "cell_type": "code",
      "metadata": {
        "id": "c57lCStiOyqA",
        "colab": {
          "base_uri": "https://localhost:8080/"
        },
        "outputId": "c7bc4797-49db-41d2-d8b5-9b54befd6050"
      },
      "source": [
        "\"\"\"\n",
        "Change directory to where this file is located\n",
        "\"\"\"\n",
        "%cd /content/drive/MyDrive/Colab Notebooks"
      ],
      "execution_count": 38,
      "outputs": [
        {
          "output_type": "stream",
          "name": "stdout",
          "text": [
            "/content/drive/MyDrive/Colab Notebooks\n"
          ]
        }
      ]
    },
    {
      "cell_type": "markdown",
      "metadata": {
        "id": "c_qq-N3MSOZc"
      },
      "source": [
        "## Import Modules"
      ]
    },
    {
      "cell_type": "code",
      "metadata": {
        "id": "5hOTbpcQPndk"
      },
      "source": [
        "import numpy as np\n",
        "import matplotlib.pyplot as plt\n",
        "from scipy import special"
      ],
      "execution_count": 8,
      "outputs": []
    },
    {
      "cell_type": "code",
      "source": [
        "import tensorflow as tf\n",
        "import tensorflow.keras.datasets.fashion_mnist as fashion_mnist\n",
        "import numpy as np\n",
        "import matplotlib.pyplot as plt\n",
        "import pandas as pd\n",
        "import datetime\n",
        "import os"
      ],
      "metadata": {
        "id": "71pC0E6Rh_Us"
      },
      "execution_count": 18,
      "outputs": []
    },
    {
      "cell_type": "markdown",
      "source": [
        "Gloabal parameters"
      ],
      "metadata": {
        "id": "PUJN9gg__eYm"
      }
    },
    {
      "cell_type": "code",
      "metadata": {
        "id": "sTMPV-Aa4DwS"
      },
      "source": [
        "data_path = './Pose_Dataset/'\n",
        "\n",
        "image_size = 128\n",
        "min_dim = 100\n",
        "max_obj_num = 100\n",
        "\n",
        "unet_base_filters = 64\n",
        "in_channels = 3\n",
        "\n",
        "w0 = 10\n",
        "sigma = 5\n",
        "\n",
        "batch_size = 16\n",
        "learning_rate = 1e-4\n",
        "num_epochs = 5"
      ],
      "execution_count": 39,
      "outputs": []
    },
    {
      "cell_type": "code",
      "source": [
        "import json\n",
        "\n",
        "\n",
        "labels=['bad_back_round','bad_back_warp','bad_head','bad_innner_thigh','bad_shallow','bad_toe','good']\n",
        "paths={'bad_back_round':0,\n",
        "       'bad_back_warp':0,\n",
        "       'bad_head':0,\n",
        "       'bad_innner_thigh':0,\n",
        "       'bad_shallow':0,\n",
        "       'bad_toe':0,\n",
        "       'good':0}\n",
        "\n",
        "for label in labels:\n",
        "    paths[label]=data_path+label+\"/1115_3djoints_index\"\n",
        "\n",
        "\n",
        "json_files={'bad_back_round':0,\n",
        "       'bad_back_warp':0,\n",
        "       'bad_head':0,\n",
        "       'bad_innner_thigh':0,\n",
        "       'bad_shallow':0,\n",
        "       'bad_toe':0,\n",
        "       'good':0}\n",
        "\n",
        "\n",
        "for label in labels:\n",
        "    json_files[label]=[pos_json for pos_json in os.listdir(paths[label]) if pos_json.endswith('.json')]\n",
        "\n",
        "data={'bad_back_round':[],'bad_back_warp':[],'bad_head':[],'bad_innner_thigh':[],'bad_shallow':[],'bad_toe':[],'good':[]}\n",
        "\n",
        "for label in labels:\n",
        "    for single_file in json_files[label]:\n",
        "        file_path=paths[label]+\"/\"+single_file\n",
        "        with open(file_path,'r') as fp:\n",
        "            data[label].append(json.load(fp))\n",
        "\n"
      ],
      "metadata": {
        "id": "m9EfzcObkbjq"
      },
      "execution_count": 51,
      "outputs": []
    },
    {
      "cell_type": "code",
      "source": [
        "data_numpy={}\n",
        "for label in labels:\n",
        "    label_list=[]\n",
        "    for i in range(len(data[label])):\n",
        "        my_list=[]\n",
        "        for j in range(300):\n",
        "            my_list.append(data[label][i][str(j)]['3d_joint'])\n",
        "        label_list.append(my_list)\n",
        "    label_numpy=np.array(label_list)\n",
        "    data_numpy[label]=label_numpy"
      ],
      "metadata": {
        "id": "9bhjqVcxMyv5"
      },
      "execution_count": 83,
      "outputs": []
    },
    {
      "cell_type": "code",
      "source": [
        "print(len(data_numpy))\n",
        "for label in labels:\n",
        "    print(np.shape(data_numpy[label]))"
      ],
      "metadata": {
        "colab": {
          "base_uri": "https://localhost:8080/"
        },
        "id": "Nf8xrDHVUcpv",
        "outputId": "e1b8e7d9-d126-412e-a3f7-36bbdc81459e"
      },
      "execution_count": 88,
      "outputs": [
        {
          "output_type": "stream",
          "name": "stdout",
          "text": [
            "7\n",
            "(283, 300, 171)\n",
            "(312, 300, 171)\n",
            "(272, 300, 171)\n",
            "(230, 300, 171)\n",
            "(319, 300, 171)\n",
            "(295, 300, 171)\n",
            "(293, 300, 171)\n"
          ]
        }
      ]
    }
  ]
}